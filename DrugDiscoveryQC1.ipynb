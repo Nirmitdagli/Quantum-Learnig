{
  "nbformat": 4,
  "nbformat_minor": 0,
  "metadata": {
    "colab": {
      "provenance": [],
      "authorship_tag": "ABX9TyPRTIoWqoU1IeF57ljX7EeM",
      "include_colab_link": true
    },
    "kernelspec": {
      "name": "python3",
      "display_name": "Python 3"
    },
    "language_info": {
      "name": "python"
    }
  },
  "cells": [
    {
      "cell_type": "markdown",
      "metadata": {
        "id": "view-in-github",
        "colab_type": "text"
      },
      "source": [
        "<a href=\"https://colab.research.google.com/github/Nirmitdagli/Quantum-Learnig/blob/main/DrugDiscoveryQC1.ipynb\" target=\"_parent\"><img src=\"https://colab.research.google.com/assets/colab-badge.svg\" alt=\"Open In Colab\"/></a>"
      ]
    },
    {
      "cell_type": "code",
      "execution_count": null,
      "metadata": {
        "colab": {
          "base_uri": "https://localhost:8080/"
        },
        "id": "886YrBEBMx4w",
        "outputId": "d4d151f0-aa51-4f53-881a-9b9cc3f969c9"
      },
      "outputs": [
        {
          "output_type": "stream",
          "name": "stdout",
          "text": [
            "Collecting cirq\n",
            "  Downloading cirq-1.4.1-py3-none-any.whl.metadata (7.4 kB)\n",
            "Collecting openfermion\n",
            "  Downloading openfermion-1.7.0-py3-none-any.whl.metadata (13 kB)\n",
            "Collecting openfermioncirq\n",
            "  Downloading openfermioncirq-0.4.0-py3-none-any.whl.metadata (3.9 kB)\n",
            "Collecting cirq-aqt==1.4.1 (from cirq)\n",
            "  Downloading cirq_aqt-1.4.1-py3-none-any.whl.metadata (1.6 kB)\n",
            "Collecting cirq-core==1.4.1 (from cirq)\n",
            "  Downloading cirq_core-1.4.1-py3-none-any.whl.metadata (1.8 kB)\n",
            "Collecting cirq-google==1.4.1 (from cirq)\n",
            "  Downloading cirq_google-1.4.1-py3-none-any.whl.metadata (2.0 kB)\n",
            "Collecting cirq-ionq==1.4.1 (from cirq)\n",
            "  Downloading cirq_ionq-1.4.1-py3-none-any.whl.metadata (1.6 kB)\n",
            "Collecting cirq-pasqal==1.4.1 (from cirq)\n",
            "  Downloading cirq_pasqal-1.4.1-py3-none-any.whl.metadata (1.6 kB)\n",
            "Collecting cirq-rigetti==1.4.1 (from cirq)\n",
            "  Downloading cirq_rigetti-1.4.1-py3-none-any.whl.metadata (1.7 kB)\n",
            "Collecting cirq-web==1.4.1 (from cirq)\n",
            "  Downloading cirq_web-1.4.1-py3-none-any.whl.metadata (2.6 kB)\n",
            "Requirement already satisfied: requests~=2.18 in /usr/local/lib/python3.11/dist-packages (from cirq-aqt==1.4.1->cirq) (2.32.3)\n",
            "Requirement already satisfied: attrs>=21.3.0 in /usr/local/lib/python3.11/dist-packages (from cirq-core==1.4.1->cirq) (25.1.0)\n",
            "Collecting duet>=0.2.8 (from cirq-core==1.4.1->cirq)\n",
            "  Downloading duet-0.2.9-py3-none-any.whl.metadata (2.3 kB)\n",
            "Requirement already satisfied: matplotlib~=3.0 in /usr/local/lib/python3.11/dist-packages (from cirq-core==1.4.1->cirq) (3.10.0)\n",
            "Requirement already satisfied: networkx>=2.4 in /usr/local/lib/python3.11/dist-packages (from cirq-core==1.4.1->cirq) (3.4.2)\n",
            "Requirement already satisfied: numpy~=1.22 in /usr/local/lib/python3.11/dist-packages (from cirq-core==1.4.1->cirq) (1.26.4)\n",
            "Requirement already satisfied: pandas in /usr/local/lib/python3.11/dist-packages (from cirq-core==1.4.1->cirq) (2.2.2)\n",
            "Collecting sortedcontainers~=2.0 (from cirq-core==1.4.1->cirq)\n",
            "  Downloading sortedcontainers-2.4.0-py2.py3-none-any.whl.metadata (10 kB)\n",
            "Requirement already satisfied: scipy~=1.0 in /usr/local/lib/python3.11/dist-packages (from cirq-core==1.4.1->cirq) (1.13.1)\n",
            "Requirement already satisfied: sympy in /usr/local/lib/python3.11/dist-packages (from cirq-core==1.4.1->cirq) (1.13.1)\n",
            "Requirement already satisfied: typing-extensions>=4.2 in /usr/local/lib/python3.11/dist-packages (from cirq-core==1.4.1->cirq) (4.12.2)\n",
            "Requirement already satisfied: tqdm in /usr/local/lib/python3.11/dist-packages (from cirq-core==1.4.1->cirq) (4.67.1)\n",
            "Requirement already satisfied: google-api-core>=1.14.0 in /usr/local/lib/python3.11/dist-packages (from google-api-core[grpc]>=1.14.0->cirq-google==1.4.1->cirq) (2.24.1)\n",
            "Requirement already satisfied: proto-plus>=1.20.0 in /usr/local/lib/python3.11/dist-packages (from cirq-google==1.4.1->cirq) (1.26.0)\n",
            "Requirement already satisfied: protobuf<5.0.0,>=3.15.0 in /usr/local/lib/python3.11/dist-packages (from cirq-google==1.4.1->cirq) (4.25.6)\n",
            "Collecting pyquil<5.0.0,>=4.11.0 (from cirq-rigetti==1.4.1->cirq)\n",
            "  Downloading pyquil-4.16.0-py3-none-any.whl.metadata (10 kB)\n",
            "Collecting deprecation (from openfermion)\n",
            "  Downloading deprecation-2.1.0-py2.py3-none-any.whl.metadata (4.6 kB)\n",
            "Requirement already satisfied: h5py>=3.10.0 in /usr/local/lib/python3.11/dist-packages (from openfermion) (3.12.1)\n",
            "Collecting pubchempy (from openfermion)\n",
            "  Downloading PubChemPy-1.0.4.tar.gz (29 kB)\n",
            "  Preparing metadata (setup.py) ... \u001b[?25l\u001b[?25hdone\n",
            "Collecting scipy~=1.0 (from cirq-core==1.4.1->cirq)\n",
            "  Downloading scipy-1.15.2-cp311-cp311-manylinux_2_17_x86_64.manylinux2014_x86_64.whl.metadata (61 kB)\n",
            "\u001b[2K     \u001b[90m━━━━━━━━━━━━━━━━━━━━━━━━━━━━━━━━━━━━━━━━\u001b[0m \u001b[32m62.0/62.0 kB\u001b[0m \u001b[31m2.7 MB/s\u001b[0m eta \u001b[36m0:00:00\u001b[0m\n",
            "\u001b[?25hRequirement already satisfied: charset-normalizer<4,>=2 in /usr/local/lib/python3.11/dist-packages (from requests~=2.18->cirq-aqt==1.4.1->cirq) (3.4.1)\n",
            "Requirement already satisfied: idna<4,>=2.5 in /usr/local/lib/python3.11/dist-packages (from requests~=2.18->cirq-aqt==1.4.1->cirq) (3.10)\n",
            "Requirement already satisfied: urllib3<3,>=1.21.1 in /usr/local/lib/python3.11/dist-packages (from requests~=2.18->cirq-aqt==1.4.1->cirq) (2.3.0)\n",
            "Requirement already satisfied: certifi>=2017.4.17 in /usr/local/lib/python3.11/dist-packages (from requests~=2.18->cirq-aqt==1.4.1->cirq) (2025.1.31)\n",
            "Requirement already satisfied: packaging in /usr/local/lib/python3.11/dist-packages (from deprecation->openfermion) (24.2)\n",
            "Requirement already satisfied: python-dateutil>=2.8.2 in /usr/local/lib/python3.11/dist-packages (from pandas->cirq-core==1.4.1->cirq) (2.8.2)\n",
            "Requirement already satisfied: pytz>=2020.1 in /usr/local/lib/python3.11/dist-packages (from pandas->cirq-core==1.4.1->cirq) (2025.1)\n",
            "Requirement already satisfied: tzdata>=2022.7 in /usr/local/lib/python3.11/dist-packages (from pandas->cirq-core==1.4.1->cirq) (2025.1)\n",
            "Requirement already satisfied: mpmath<1.4,>=1.1.0 in /usr/local/lib/python3.11/dist-packages (from sympy->cirq-core==1.4.1->cirq) (1.3.0)\n",
            "Requirement already satisfied: googleapis-common-protos<2.0.dev0,>=1.56.2 in /usr/local/lib/python3.11/dist-packages (from google-api-core>=1.14.0->google-api-core[grpc]>=1.14.0->cirq-google==1.4.1->cirq) (1.67.0)\n",
            "Requirement already satisfied: google-auth<3.0.dev0,>=2.14.1 in /usr/local/lib/python3.11/dist-packages (from google-api-core>=1.14.0->google-api-core[grpc]>=1.14.0->cirq-google==1.4.1->cirq) (2.27.0)\n",
            "Requirement already satisfied: grpcio<2.0dev,>=1.33.2 in /usr/local/lib/python3.11/dist-packages (from google-api-core[grpc]>=1.14.0->cirq-google==1.4.1->cirq) (1.70.0)\n",
            "Requirement already satisfied: grpcio-status<2.0.dev0,>=1.33.2 in /usr/local/lib/python3.11/dist-packages (from google-api-core[grpc]>=1.14.0->cirq-google==1.4.1->cirq) (1.62.3)\n",
            "Requirement already satisfied: contourpy>=1.0.1 in /usr/local/lib/python3.11/dist-packages (from matplotlib~=3.0->cirq-core==1.4.1->cirq) (1.3.1)\n",
            "Requirement already satisfied: cycler>=0.10 in /usr/local/lib/python3.11/dist-packages (from matplotlib~=3.0->cirq-core==1.4.1->cirq) (0.12.1)\n",
            "Requirement already satisfied: fonttools>=4.22.0 in /usr/local/lib/python3.11/dist-packages (from matplotlib~=3.0->cirq-core==1.4.1->cirq) (4.56.0)\n",
            "Requirement already satisfied: kiwisolver>=1.3.1 in /usr/local/lib/python3.11/dist-packages (from matplotlib~=3.0->cirq-core==1.4.1->cirq) (1.4.8)\n",
            "Requirement already satisfied: pillow>=8 in /usr/local/lib/python3.11/dist-packages (from matplotlib~=3.0->cirq-core==1.4.1->cirq) (11.1.0)\n",
            "Requirement already satisfied: pyparsing>=2.3.1 in /usr/local/lib/python3.11/dist-packages (from matplotlib~=3.0->cirq-core==1.4.1->cirq) (3.2.1)\n",
            "Requirement already satisfied: deprecated<2.0.0,>=1.2.14 in /usr/local/lib/python3.11/dist-packages (from pyquil<5.0.0,>=4.11.0->cirq-rigetti==1.4.1->cirq) (1.2.18)\n",
            "Requirement already satisfied: matplotlib-inline<0.2.0,>=0.1.7 in /usr/local/lib/python3.11/dist-packages (from pyquil<5.0.0,>=4.11.0->cirq-rigetti==1.4.1->cirq) (0.1.7)\n",
            "Collecting packaging (from deprecation->openfermion)\n",
            "  Downloading packaging-23.2-py3-none-any.whl.metadata (3.2 kB)\n",
            "Collecting qcs-sdk-python>=0.20.1 (from pyquil<5.0.0,>=4.11.0->cirq-rigetti==1.4.1->cirq)\n",
            "  Downloading qcs_sdk_python-0.21.12-cp311-cp311-manylinux_2_28_x86_64.whl.metadata (7.0 kB)\n",
            "Collecting quil>=0.15.2 (from pyquil<5.0.0,>=4.11.0->cirq-rigetti==1.4.1->cirq)\n",
            "  Downloading quil-0.15.3-cp311-cp311-manylinux_2_17_x86_64.manylinux2014_x86_64.whl.metadata (1.8 kB)\n",
            "Collecting rpcq<4.0.0,>=3.11.0 (from pyquil<5.0.0,>=4.11.0->cirq-rigetti==1.4.1->cirq)\n",
            "  Downloading rpcq-3.11.0.tar.gz (45 kB)\n",
            "\u001b[2K     \u001b[90m━━━━━━━━━━━━━━━━━━━━━━━━━━━━━━━━━━━━━━━━\u001b[0m \u001b[32m45.6/45.6 kB\u001b[0m \u001b[31m2.8 MB/s\u001b[0m eta \u001b[36m0:00:00\u001b[0m\n",
            "\u001b[?25h  Preparing metadata (setup.py) ... \u001b[?25l\u001b[?25hdone\n",
            "Collecting types-deprecated<2.0.0.0,>=1.2.9.3 (from pyquil<5.0.0,>=4.11.0->cirq-rigetti==1.4.1->cirq)\n",
            "  Downloading types_Deprecated-1.2.15.20241117-py3-none-any.whl.metadata (1.8 kB)\n",
            "Requirement already satisfied: six>=1.5 in /usr/local/lib/python3.11/dist-packages (from python-dateutil>=2.8.2->pandas->cirq-core==1.4.1->cirq) (1.17.0)\n",
            "Requirement already satisfied: wrapt<2,>=1.10 in /usr/local/lib/python3.11/dist-packages (from deprecated<2.0.0,>=1.2.14->pyquil<5.0.0,>=4.11.0->cirq-rigetti==1.4.1->cirq) (1.17.2)\n",
            "Requirement already satisfied: cachetools<6.0,>=2.0.0 in /usr/local/lib/python3.11/dist-packages (from google-auth<3.0.dev0,>=2.14.1->google-api-core>=1.14.0->google-api-core[grpc]>=1.14.0->cirq-google==1.4.1->cirq) (5.5.1)\n",
            "Requirement already satisfied: pyasn1-modules>=0.2.1 in /usr/local/lib/python3.11/dist-packages (from google-auth<3.0.dev0,>=2.14.1->google-api-core>=1.14.0->google-api-core[grpc]>=1.14.0->cirq-google==1.4.1->cirq) (0.4.1)\n",
            "Requirement already satisfied: rsa<5,>=3.1.4 in /usr/local/lib/python3.11/dist-packages (from google-auth<3.0.dev0,>=2.14.1->google-api-core>=1.14.0->google-api-core[grpc]>=1.14.0->cirq-google==1.4.1->cirq) (4.9)\n",
            "Requirement already satisfied: traitlets in /usr/local/lib/python3.11/dist-packages (from matplotlib-inline<0.2.0,>=0.1.7->pyquil<5.0.0,>=4.11.0->cirq-rigetti==1.4.1->cirq) (5.7.1)\n",
            "Collecting qcs-api-client-common>=0.11.8 (from qcs-sdk-python>=0.20.1->pyquil<5.0.0,>=4.11.0->cirq-rigetti==1.4.1->cirq)\n",
            "  Downloading qcs_api_client_common-0.11.8-cp311-cp311-manylinux_2_28_x86_64.whl.metadata (2.5 kB)\n",
            "Requirement already satisfied: msgpack<2.0,>=0.6 in /usr/local/lib/python3.11/dist-packages (from rpcq<4.0.0,>=3.11.0->pyquil<5.0.0,>=4.11.0->cirq-rigetti==1.4.1->cirq) (1.1.0)\n",
            "Collecting python-rapidjson (from rpcq<4.0.0,>=3.11.0->pyquil<5.0.0,>=4.11.0->cirq-rigetti==1.4.1->cirq)\n",
            "  Downloading python_rapidjson-1.20-cp311-cp311-manylinux_2_17_x86_64.manylinux2014_x86_64.whl.metadata (22 kB)\n",
            "Requirement already satisfied: pyzmq>=17 in /usr/local/lib/python3.11/dist-packages (from rpcq<4.0.0,>=3.11.0->pyquil<5.0.0,>=4.11.0->cirq-rigetti==1.4.1->cirq) (24.0.1)\n",
            "Collecting ruamel.yaml (from rpcq<4.0.0,>=3.11.0->pyquil<5.0.0,>=4.11.0->cirq-rigetti==1.4.1->cirq)\n",
            "  Downloading ruamel.yaml-0.18.10-py3-none-any.whl.metadata (23 kB)\n",
            "Requirement already satisfied: pyasn1<0.7.0,>=0.4.6 in /usr/local/lib/python3.11/dist-packages (from pyasn1-modules>=0.2.1->google-auth<3.0.dev0,>=2.14.1->google-api-core>=1.14.0->google-api-core[grpc]>=1.14.0->cirq-google==1.4.1->cirq) (0.6.1)\n",
            "Requirement already satisfied: grpc-interceptor>=0.15.0 in /usr/local/lib/python3.11/dist-packages (from qcs-api-client-common>=0.11.8->qcs-sdk-python>=0.20.1->pyquil<5.0.0,>=4.11.0->cirq-rigetti==1.4.1->cirq) (0.15.4)\n",
            "Requirement already satisfied: httpx>=0.27.0 in /usr/local/lib/python3.11/dist-packages (from qcs-api-client-common>=0.11.8->qcs-sdk-python>=0.20.1->pyquil<5.0.0,>=4.11.0->cirq-rigetti==1.4.1->cirq) (0.28.1)\n",
            "Collecting ruamel.yaml.clib>=0.2.7 (from ruamel.yaml->rpcq<4.0.0,>=3.11.0->pyquil<5.0.0,>=4.11.0->cirq-rigetti==1.4.1->cirq)\n",
            "  Downloading ruamel.yaml.clib-0.2.12-cp311-cp311-manylinux_2_17_x86_64.manylinux2014_x86_64.whl.metadata (2.7 kB)\n",
            "Requirement already satisfied: anyio in /usr/local/lib/python3.11/dist-packages (from httpx>=0.27.0->qcs-api-client-common>=0.11.8->qcs-sdk-python>=0.20.1->pyquil<5.0.0,>=4.11.0->cirq-rigetti==1.4.1->cirq) (3.7.1)\n",
            "Requirement already satisfied: httpcore==1.* in /usr/local/lib/python3.11/dist-packages (from httpx>=0.27.0->qcs-api-client-common>=0.11.8->qcs-sdk-python>=0.20.1->pyquil<5.0.0,>=4.11.0->cirq-rigetti==1.4.1->cirq) (1.0.7)\n",
            "Requirement already satisfied: h11<0.15,>=0.13 in /usr/local/lib/python3.11/dist-packages (from httpcore==1.*->httpx>=0.27.0->qcs-api-client-common>=0.11.8->qcs-sdk-python>=0.20.1->pyquil<5.0.0,>=4.11.0->cirq-rigetti==1.4.1->cirq) (0.14.0)\n",
            "Requirement already satisfied: sniffio>=1.1 in /usr/local/lib/python3.11/dist-packages (from anyio->httpx>=0.27.0->qcs-api-client-common>=0.11.8->qcs-sdk-python>=0.20.1->pyquil<5.0.0,>=4.11.0->cirq-rigetti==1.4.1->cirq) (1.3.1)\n",
            "Downloading cirq-1.4.1-py3-none-any.whl (8.0 kB)\n",
            "Downloading cirq_aqt-1.4.1-py3-none-any.whl (30 kB)\n",
            "Downloading cirq_core-1.4.1-py3-none-any.whl (1.9 MB)\n",
            "\u001b[2K   \u001b[90m━━━━━━━━━━━━━━━━━━━━━━━━━━━━━━━━━━━━━━━━\u001b[0m \u001b[32m1.9/1.9 MB\u001b[0m \u001b[31m30.3 MB/s\u001b[0m eta \u001b[36m0:00:00\u001b[0m\n",
            "\u001b[?25hDownloading cirq_google-1.4.1-py3-none-any.whl (532 kB)\n",
            "\u001b[2K   \u001b[90m━━━━━━━━━━━━━━━━━━━━━━━━━━━━━━━━━━━━━━━━\u001b[0m \u001b[32m532.7/532.7 kB\u001b[0m \u001b[31m30.7 MB/s\u001b[0m eta \u001b[36m0:00:00\u001b[0m\n",
            "\u001b[?25hDownloading cirq_ionq-1.4.1-py3-none-any.whl (60 kB)\n",
            "\u001b[2K   \u001b[90m━━━━━━━━━━━━━━━━━━━━━━━━━━━━━━━━━━━━━━━━\u001b[0m \u001b[32m60.5/60.5 kB\u001b[0m \u001b[31m3.9 MB/s\u001b[0m eta \u001b[36m0:00:00\u001b[0m\n",
            "\u001b[?25hDownloading cirq_pasqal-1.4.1-py3-none-any.whl (31 kB)\n",
            "Downloading cirq_rigetti-1.4.1-py3-none-any.whl (69 kB)\n",
            "\u001b[2K   \u001b[90m━━━━━━━━━━━━━━━━━━━━━━━━━━━━━━━━━━━━━━━━\u001b[0m \u001b[32m69.3/69.3 kB\u001b[0m \u001b[31m4.4 MB/s\u001b[0m eta \u001b[36m0:00:00\u001b[0m\n",
            "\u001b[?25hDownloading cirq_web-1.4.1-py3-none-any.whl (596 kB)\n",
            "\u001b[2K   \u001b[90m━━━━━━━━━━━━━━━━━━━━━━━━━━━━━━━━━━━━━━━━\u001b[0m \u001b[32m596.5/596.5 kB\u001b[0m \u001b[31m25.4 MB/s\u001b[0m eta \u001b[36m0:00:00\u001b[0m\n",
            "\u001b[?25hDownloading openfermion-1.7.0-py3-none-any.whl (44.7 MB)\n",
            "\u001b[2K   \u001b[90m━━━━━━━━━━━━━━━━━━━━━━━━━━━━━━━━━━━━━━━━\u001b[0m \u001b[32m44.7/44.7 MB\u001b[0m \u001b[31m22.4 MB/s\u001b[0m eta \u001b[36m0:00:00\u001b[0m\n",
            "\u001b[?25hDownloading openfermioncirq-0.4.0-py3-none-any.whl (137 kB)\n",
            "\u001b[2K   \u001b[90m━━━━━━━━━━━━━━━━━━━━━━━━━━━━━━━━━━━━━━━━\u001b[0m \u001b[32m137.3/137.3 kB\u001b[0m \u001b[31m5.2 MB/s\u001b[0m eta \u001b[36m0:00:00\u001b[0m\n",
            "\u001b[?25hDownloading scipy-1.15.2-cp311-cp311-manylinux_2_17_x86_64.manylinux2014_x86_64.whl (37.6 MB)\n",
            "\u001b[2K   \u001b[90m━━━━━━━━━━━━━━━━━━━━━━━━━━━━━━━━━━━━━━━━\u001b[0m \u001b[32m37.6/37.6 MB\u001b[0m \u001b[31m21.2 MB/s\u001b[0m eta \u001b[36m0:00:00\u001b[0m\n",
            "\u001b[?25hDownloading deprecation-2.1.0-py2.py3-none-any.whl (11 kB)\n",
            "Downloading duet-0.2.9-py3-none-any.whl (29 kB)\n",
            "Downloading pyquil-4.16.0-py3-none-any.whl (202 kB)\n",
            "\u001b[2K   \u001b[90m━━━━━━━━━━━━━━━━━━━━━━━━━━━━━━━━━━━━━━━━\u001b[0m \u001b[32m202.9/202.9 kB\u001b[0m \u001b[31m12.4 MB/s\u001b[0m eta \u001b[36m0:00:00\u001b[0m\n",
            "\u001b[?25hDownloading packaging-23.2-py3-none-any.whl (53 kB)\n",
            "\u001b[2K   \u001b[90m━━━━━━━━━━━━━━━━━━━━━━━━━━━━━━━━━━━━━━━━\u001b[0m \u001b[32m53.0/53.0 kB\u001b[0m \u001b[31m3.9 MB/s\u001b[0m eta \u001b[36m0:00:00\u001b[0m\n",
            "\u001b[?25hDownloading sortedcontainers-2.4.0-py2.py3-none-any.whl (29 kB)\n",
            "Downloading qcs_sdk_python-0.21.12-cp311-cp311-manylinux_2_28_x86_64.whl (6.5 MB)\n",
            "\u001b[2K   \u001b[90m━━━━━━━━━━━━━━━━━━━━━━━━━━━━━━━━━━━━━━━━\u001b[0m \u001b[32m6.5/6.5 MB\u001b[0m \u001b[31m65.8 MB/s\u001b[0m eta \u001b[36m0:00:00\u001b[0m\n",
            "\u001b[?25hDownloading quil-0.15.3-cp311-cp311-manylinux_2_17_x86_64.manylinux2014_x86_64.whl (2.2 MB)\n",
            "\u001b[2K   \u001b[90m━━━━━━━━━━━━━━━━━━━━━━━━━━━━━━━━━━━━━━━━\u001b[0m \u001b[32m2.2/2.2 MB\u001b[0m \u001b[31m56.0 MB/s\u001b[0m eta \u001b[36m0:00:00\u001b[0m\n",
            "\u001b[?25hDownloading types_Deprecated-1.2.15.20241117-py3-none-any.whl (3.8 kB)\n",
            "Downloading qcs_api_client_common-0.11.8-cp311-cp311-manylinux_2_28_x86_64.whl (2.7 MB)\n",
            "\u001b[2K   \u001b[90m━━━━━━━━━━━━━━━━━━━━━━━━━━━━━━━━━━━━━━━━\u001b[0m \u001b[32m2.7/2.7 MB\u001b[0m \u001b[31m65.9 MB/s\u001b[0m eta \u001b[36m0:00:00\u001b[0m\n",
            "\u001b[?25hDownloading python_rapidjson-1.20-cp311-cp311-manylinux_2_17_x86_64.manylinux2014_x86_64.whl (1.7 MB)\n",
            "\u001b[2K   \u001b[90m━━━━━━━━━━━━━━━━━━━━━━━━━━━━━━━━━━━━━━━━\u001b[0m \u001b[32m1.7/1.7 MB\u001b[0m \u001b[31m58.7 MB/s\u001b[0m eta \u001b[36m0:00:00\u001b[0m\n",
            "\u001b[?25hDownloading ruamel.yaml-0.18.10-py3-none-any.whl (117 kB)\n",
            "\u001b[2K   \u001b[90m━━━━━━━━━━━━━━━━━━━━━━━━━━━━━━━━━━━━━━━━\u001b[0m \u001b[32m117.7/117.7 kB\u001b[0m \u001b[31m9.9 MB/s\u001b[0m eta \u001b[36m0:00:00\u001b[0m\n",
            "\u001b[?25hDownloading ruamel.yaml.clib-0.2.12-cp311-cp311-manylinux_2_17_x86_64.manylinux2014_x86_64.whl (739 kB)\n",
            "\u001b[2K   \u001b[90m━━━━━━━━━━━━━━━━━━━━━━━━━━━━━━━━━━━━━━━━\u001b[0m \u001b[32m739.1/739.1 kB\u001b[0m \u001b[31m3.6 MB/s\u001b[0m eta \u001b[36m0:00:00\u001b[0m\n",
            "\u001b[?25hBuilding wheels for collected packages: pubchempy, rpcq\n",
            "  Building wheel for pubchempy (setup.py) ... \u001b[?25l\u001b[?25hdone\n",
            "  Created wheel for pubchempy: filename=PubChemPy-1.0.4-py3-none-any.whl size=13819 sha256=47f94e8930a78a394ebec4340e36d2156083965e0b8eac5a5b8cc4ed3c56e1da\n",
            "  Stored in directory: /root/.cache/pip/wheels/8b/e3/6c/3385b2db08b0985a87f5b117f98d0cb61a3ae3ca3bcbbd8307\n",
            "  Building wheel for rpcq (setup.py) ... \u001b[?25l\u001b[?25hdone\n",
            "  Created wheel for rpcq: filename=rpcq-3.11.0-py3-none-any.whl size=45967 sha256=f86b15e9d19b85840b39272797b23cbe13454b05ca02ae5130c42adfd8677765\n",
            "  Stored in directory: /root/.cache/pip/wheels/b3/b6/ad/8f05ac735661e828024c764a6e6fc3eb6f84434e408aad5eab\n",
            "Successfully built pubchempy rpcq\n",
            "Installing collected packages: sortedcontainers, pubchempy, types-deprecated, scipy, ruamel.yaml.clib, quil, python-rapidjson, packaging, duet, ruamel.yaml, deprecation, rpcq, qcs-api-client-common, cirq-core, qcs-sdk-python, openfermion, cirq-web, cirq-pasqal, cirq-ionq, cirq-aqt, pyquil, cirq-google, cirq-rigetti, cirq, openfermioncirq\n",
            "  Attempting uninstall: scipy\n",
            "    Found existing installation: scipy 1.13.1\n",
            "    Uninstalling scipy-1.13.1:\n",
            "      Successfully uninstalled scipy-1.13.1\n",
            "  Attempting uninstall: packaging\n",
            "    Found existing installation: packaging 24.2\n",
            "    Uninstalling packaging-24.2:\n",
            "      Successfully uninstalled packaging-24.2\n",
            "\u001b[31mERROR: pip's dependency resolver does not currently take into account all the packages that are installed. This behaviour is the source of the following dependency conflicts.\n",
            "gensim 4.3.3 requires scipy<1.14.0,>=1.7.0, but you have scipy 1.15.2 which is incompatible.\u001b[0m\u001b[31m\n",
            "\u001b[0mSuccessfully installed cirq-1.4.1 cirq-aqt-1.4.1 cirq-core-1.4.1 cirq-google-1.4.1 cirq-ionq-1.4.1 cirq-pasqal-1.4.1 cirq-rigetti-1.4.1 cirq-web-1.4.1 deprecation-2.1.0 duet-0.2.9 openfermion-1.7.0 openfermioncirq-0.4.0 packaging-23.2 pubchempy-1.0.4 pyquil-4.16.0 python-rapidjson-1.20 qcs-api-client-common-0.11.8 qcs-sdk-python-0.21.12 quil-0.15.3 rpcq-3.11.0 ruamel.yaml-0.18.10 ruamel.yaml.clib-0.2.12 scipy-1.15.2 sortedcontainers-2.4.0 types-deprecated-1.2.15.20241117\n"
          ]
        }
      ],
      "source": [
        "!pip install cirq openfermion openfermioncirq"
      ]
    },
    {
      "cell_type": "code",
      "source": [
        "!pip install scipy==1.13.0 --force-reinstall\n"
      ],
      "metadata": {
        "colab": {
          "base_uri": "https://localhost:8080/"
        },
        "id": "f7MmoNTjN53W",
        "outputId": "5c8dd6d3-e788-45bb-b71c-ed2b7929602e"
      },
      "execution_count": null,
      "outputs": [
        {
          "output_type": "stream",
          "name": "stdout",
          "text": [
            "Collecting scipy==1.13.0\n",
            "  Downloading scipy-1.13.0-cp311-cp311-manylinux_2_17_x86_64.manylinux2014_x86_64.whl.metadata (60 kB)\n",
            "\u001b[2K     \u001b[90m━━━━━━━━━━━━━━━━━━━━━━━━━━━━━━━━━━━━━━━━\u001b[0m \u001b[32m60.6/60.6 kB\u001b[0m \u001b[31m2.0 MB/s\u001b[0m eta \u001b[36m0:00:00\u001b[0m\n",
            "\u001b[?25hCollecting numpy<2.3,>=1.22.4 (from scipy==1.13.0)\n",
            "  Downloading numpy-2.2.3-cp311-cp311-manylinux_2_17_x86_64.manylinux2014_x86_64.whl.metadata (62 kB)\n",
            "\u001b[2K     \u001b[90m━━━━━━━━━━━━━━━━━━━━━━━━━━━━━━━━━━━━━━━━\u001b[0m \u001b[32m62.0/62.0 kB\u001b[0m \u001b[31m2.8 MB/s\u001b[0m eta \u001b[36m0:00:00\u001b[0m\n",
            "\u001b[?25hDownloading scipy-1.13.0-cp311-cp311-manylinux_2_17_x86_64.manylinux2014_x86_64.whl (38.6 MB)\n",
            "\u001b[2K   \u001b[90m━━━━━━━━━━━━━━━━━━━━━━━━━━━━━━━━━━━━━━━━\u001b[0m \u001b[32m38.6/38.6 MB\u001b[0m \u001b[31m41.2 MB/s\u001b[0m eta \u001b[36m0:00:00\u001b[0m\n",
            "\u001b[?25hDownloading numpy-2.2.3-cp311-cp311-manylinux_2_17_x86_64.manylinux2014_x86_64.whl (16.4 MB)\n",
            "\u001b[2K   \u001b[90m━━━━━━━━━━━━━━━━━━━━━━━━━━━━━━━━━━━━━━━━\u001b[0m \u001b[32m16.4/16.4 MB\u001b[0m \u001b[31m79.1 MB/s\u001b[0m eta \u001b[36m0:00:00\u001b[0m\n",
            "\u001b[?25hInstalling collected packages: numpy, scipy\n",
            "  Attempting uninstall: numpy\n",
            "    Found existing installation: numpy 1.26.4\n",
            "    Uninstalling numpy-1.26.4:\n",
            "      Successfully uninstalled numpy-1.26.4\n",
            "  Attempting uninstall: scipy\n",
            "    Found existing installation: scipy 1.15.2\n",
            "    Uninstalling scipy-1.15.2:\n",
            "      Successfully uninstalled scipy-1.15.2\n",
            "\u001b[31mERROR: pip's dependency resolver does not currently take into account all the packages that are installed. This behaviour is the source of the following dependency conflicts.\n",
            "openfermion 1.7.0 requires numpy<2.0,>=1.24, but you have numpy 2.2.3 which is incompatible.\n",
            "openfermion 1.7.0 requires scipy~=1.15, but you have scipy 1.13.0 which is incompatible.\n",
            "pyquil 4.16.0 requires numpy<2.0,>=1.25, but you have numpy 2.2.3 which is incompatible.\n",
            "cirq-core 1.4.1 requires numpy~=1.22, but you have numpy 2.2.3 which is incompatible.\n",
            "tensorflow 2.18.0 requires numpy<2.1.0,>=1.26.0, but you have numpy 2.2.3 which is incompatible.\n",
            "gensim 4.3.3 requires numpy<2.0,>=1.18.5, but you have numpy 2.2.3 which is incompatible.\n",
            "pytensor 2.27.1 requires numpy<2,>=1.17.0, but you have numpy 2.2.3 which is incompatible.\n",
            "langchain 0.3.19 requires numpy<2,>=1.26.4; python_version < \"3.12\", but you have numpy 2.2.3 which is incompatible.\n",
            "thinc 8.2.5 requires numpy<2.0.0,>=1.19.0; python_version >= \"3.9\", but you have numpy 2.2.3 which is incompatible.\n",
            "numba 0.61.0 requires numpy<2.2,>=1.24, but you have numpy 2.2.3 which is incompatible.\u001b[0m\u001b[31m\n",
            "\u001b[0mSuccessfully installed numpy-2.2.3 scipy-1.13.0\n"
          ]
        }
      ]
    },
    {
      "cell_type": "code",
      "source": [
        "import cirq\n",
        "import openfermion\n",
        "print(\"✅ Cirq & OpenFermion Installed Successfully!\")"
      ],
      "metadata": {
        "colab": {
          "base_uri": "https://localhost:8080/"
        },
        "id": "VmWl3YAlOC3z",
        "outputId": "c49565b7-7273-4326-e20b-3257c75cb2b0"
      },
      "execution_count": null,
      "outputs": [
        {
          "output_type": "stream",
          "name": "stdout",
          "text": [
            "✅ Cirq & OpenFermion Installed Successfully!\n"
          ]
        }
      ]
    },
    {
      "cell_type": "code",
      "source": [
        "import cirq\n",
        "import numpy as np\n",
        "import scipy.optimize\n",
        "import matplotlib.pyplot as plt\n",
        "from openfermion.chem import MolecularData\n",
        "from openfermion.transforms import jordan_wigner\n",
        "from openfermion.linalg import get_sparse_operator\n",
        "\n",
        "print(\"✅ Libraries Loaded Successfully!\")"
      ],
      "metadata": {
        "colab": {
          "base_uri": "https://localhost:8080/"
        },
        "id": "3ZLeG_tnOU9c",
        "outputId": "6842548d-d3db-4d7d-9f27-1aa05a67f92e"
      },
      "execution_count": null,
      "outputs": [
        {
          "output_type": "stream",
          "name": "stdout",
          "text": [
            "✅ Libraries Loaded Successfully!\n"
          ]
        }
      ]
    },
    {
      "cell_type": "code",
      "source": [
        "!pip install openfermionpyscf pyscf"
      ],
      "metadata": {
        "colab": {
          "base_uri": "https://localhost:8080/"
        },
        "id": "2LJF_dNwOtTU",
        "outputId": "6d9f3387-6284-4095-f1f8-67cc9000233b"
      },
      "execution_count": null,
      "outputs": [
        {
          "output_type": "stream",
          "name": "stdout",
          "text": [
            "Collecting openfermionpyscf\n",
            "  Downloading openfermionpyscf-0.5-py3-none-any.whl.metadata (6.9 kB)\n",
            "Collecting pyscf\n",
            "  Downloading pyscf-2.8.0-py3-none-manylinux_2_17_x86_64.manylinux2014_x86_64.whl.metadata (6.4 kB)\n",
            "Requirement already satisfied: openfermion>=0.5 in /usr/local/lib/python3.11/dist-packages (from openfermionpyscf) (1.7.0)\n",
            "Requirement already satisfied: pytest in /usr/local/lib/python3.11/dist-packages (from openfermionpyscf) (8.3.4)\n",
            "Requirement already satisfied: numpy!=1.16,!=1.17,>=1.13 in /usr/local/lib/python3.11/dist-packages (from pyscf) (2.2.3)\n",
            "Requirement already satisfied: scipy>=1.6.0 in /usr/local/lib/python3.11/dist-packages (from pyscf) (1.13.0)\n",
            "Requirement already satisfied: h5py>=2.7 in /usr/local/lib/python3.11/dist-packages (from pyscf) (3.12.1)\n",
            "Requirement already satisfied: setuptools in /usr/local/lib/python3.11/dist-packages (from pyscf) (75.1.0)\n",
            "Requirement already satisfied: cirq-core in /usr/local/lib/python3.11/dist-packages (from openfermion>=0.5->openfermionpyscf) (1.4.1)\n",
            "Requirement already satisfied: deprecation in /usr/local/lib/python3.11/dist-packages (from openfermion>=0.5->openfermionpyscf) (2.1.0)\n",
            "Requirement already satisfied: networkx in /usr/local/lib/python3.11/dist-packages (from openfermion>=0.5->openfermionpyscf) (3.4.2)\n",
            "Collecting numpy!=1.16,!=1.17,>=1.13 (from pyscf)\n",
            "  Downloading numpy-1.26.4-cp311-cp311-manylinux_2_17_x86_64.manylinux2014_x86_64.whl.metadata (61 kB)\n",
            "\u001b[2K     \u001b[90m━━━━━━━━━━━━━━━━━━━━━━━━━━━━━━━━━━━━━━━━\u001b[0m \u001b[32m61.0/61.0 kB\u001b[0m \u001b[31m2.5 MB/s\u001b[0m eta \u001b[36m0:00:00\u001b[0m\n",
            "\u001b[?25hRequirement already satisfied: pubchempy in /usr/local/lib/python3.11/dist-packages (from openfermion>=0.5->openfermionpyscf) (1.0.4)\n",
            "Requirement already satisfied: requests~=2.32.2 in /usr/local/lib/python3.11/dist-packages (from openfermion>=0.5->openfermionpyscf) (2.32.3)\n",
            "Collecting scipy>=1.6.0 (from pyscf)\n",
            "  Using cached scipy-1.15.2-cp311-cp311-manylinux_2_17_x86_64.manylinux2014_x86_64.whl.metadata (61 kB)\n",
            "Requirement already satisfied: sympy in /usr/local/lib/python3.11/dist-packages (from openfermion>=0.5->openfermionpyscf) (1.13.1)\n",
            "Requirement already satisfied: iniconfig in /usr/local/lib/python3.11/dist-packages (from pytest->openfermionpyscf) (2.0.0)\n",
            "Requirement already satisfied: packaging in /usr/local/lib/python3.11/dist-packages (from pytest->openfermionpyscf) (23.2)\n",
            "Requirement already satisfied: pluggy<2,>=1.5 in /usr/local/lib/python3.11/dist-packages (from pytest->openfermionpyscf) (1.5.0)\n",
            "Requirement already satisfied: charset-normalizer<4,>=2 in /usr/local/lib/python3.11/dist-packages (from requests~=2.32.2->openfermion>=0.5->openfermionpyscf) (3.4.1)\n",
            "Requirement already satisfied: idna<4,>=2.5 in /usr/local/lib/python3.11/dist-packages (from requests~=2.32.2->openfermion>=0.5->openfermionpyscf) (3.10)\n",
            "Requirement already satisfied: urllib3<3,>=1.21.1 in /usr/local/lib/python3.11/dist-packages (from requests~=2.32.2->openfermion>=0.5->openfermionpyscf) (2.3.0)\n",
            "Requirement already satisfied: certifi>=2017.4.17 in /usr/local/lib/python3.11/dist-packages (from requests~=2.32.2->openfermion>=0.5->openfermionpyscf) (2025.1.31)\n",
            "Requirement already satisfied: attrs>=21.3.0 in /usr/local/lib/python3.11/dist-packages (from cirq-core->openfermion>=0.5->openfermionpyscf) (25.1.0)\n",
            "Requirement already satisfied: duet>=0.2.8 in /usr/local/lib/python3.11/dist-packages (from cirq-core->openfermion>=0.5->openfermionpyscf) (0.2.9)\n",
            "Requirement already satisfied: matplotlib~=3.0 in /usr/local/lib/python3.11/dist-packages (from cirq-core->openfermion>=0.5->openfermionpyscf) (3.10.0)\n",
            "Requirement already satisfied: pandas in /usr/local/lib/python3.11/dist-packages (from cirq-core->openfermion>=0.5->openfermionpyscf) (2.2.2)\n",
            "Requirement already satisfied: sortedcontainers~=2.0 in /usr/local/lib/python3.11/dist-packages (from cirq-core->openfermion>=0.5->openfermionpyscf) (2.4.0)\n",
            "Requirement already satisfied: typing-extensions>=4.2 in /usr/local/lib/python3.11/dist-packages (from cirq-core->openfermion>=0.5->openfermionpyscf) (4.12.2)\n",
            "Requirement already satisfied: tqdm in /usr/local/lib/python3.11/dist-packages (from cirq-core->openfermion>=0.5->openfermionpyscf) (4.67.1)\n",
            "Requirement already satisfied: mpmath<1.4,>=1.1.0 in /usr/local/lib/python3.11/dist-packages (from sympy->openfermion>=0.5->openfermionpyscf) (1.3.0)\n",
            "Requirement already satisfied: contourpy>=1.0.1 in /usr/local/lib/python3.11/dist-packages (from matplotlib~=3.0->cirq-core->openfermion>=0.5->openfermionpyscf) (1.3.1)\n",
            "Requirement already satisfied: cycler>=0.10 in /usr/local/lib/python3.11/dist-packages (from matplotlib~=3.0->cirq-core->openfermion>=0.5->openfermionpyscf) (0.12.1)\n",
            "Requirement already satisfied: fonttools>=4.22.0 in /usr/local/lib/python3.11/dist-packages (from matplotlib~=3.0->cirq-core->openfermion>=0.5->openfermionpyscf) (4.56.0)\n",
            "Requirement already satisfied: kiwisolver>=1.3.1 in /usr/local/lib/python3.11/dist-packages (from matplotlib~=3.0->cirq-core->openfermion>=0.5->openfermionpyscf) (1.4.8)\n",
            "Requirement already satisfied: pillow>=8 in /usr/local/lib/python3.11/dist-packages (from matplotlib~=3.0->cirq-core->openfermion>=0.5->openfermionpyscf) (11.1.0)\n",
            "Requirement already satisfied: pyparsing>=2.3.1 in /usr/local/lib/python3.11/dist-packages (from matplotlib~=3.0->cirq-core->openfermion>=0.5->openfermionpyscf) (3.2.1)\n",
            "Requirement already satisfied: python-dateutil>=2.7 in /usr/local/lib/python3.11/dist-packages (from matplotlib~=3.0->cirq-core->openfermion>=0.5->openfermionpyscf) (2.8.2)\n",
            "Requirement already satisfied: pytz>=2020.1 in /usr/local/lib/python3.11/dist-packages (from pandas->cirq-core->openfermion>=0.5->openfermionpyscf) (2025.1)\n",
            "Requirement already satisfied: tzdata>=2022.7 in /usr/local/lib/python3.11/dist-packages (from pandas->cirq-core->openfermion>=0.5->openfermionpyscf) (2025.1)\n",
            "Requirement already satisfied: six>=1.5 in /usr/local/lib/python3.11/dist-packages (from python-dateutil>=2.7->matplotlib~=3.0->cirq-core->openfermion>=0.5->openfermionpyscf) (1.17.0)\n",
            "Downloading openfermionpyscf-0.5-py3-none-any.whl (16 kB)\n",
            "Downloading pyscf-2.8.0-py3-none-manylinux_2_17_x86_64.manylinux2014_x86_64.whl (50.9 MB)\n",
            "\u001b[2K   \u001b[90m━━━━━━━━━━━━━━━━━━━━━━━━━━━━━━━━━━━━━━━━\u001b[0m \u001b[32m50.9/50.9 MB\u001b[0m \u001b[31m12.1 MB/s\u001b[0m eta \u001b[36m0:00:00\u001b[0m\n",
            "\u001b[?25hDownloading numpy-1.26.4-cp311-cp311-manylinux_2_17_x86_64.manylinux2014_x86_64.whl (18.3 MB)\n",
            "\u001b[2K   \u001b[90m━━━━━━━━━━━━━━━━━━━━━━━━━━━━━━━━━━━━━━━━\u001b[0m \u001b[32m18.3/18.3 MB\u001b[0m \u001b[31m82.7 MB/s\u001b[0m eta \u001b[36m0:00:00\u001b[0m\n",
            "\u001b[?25hUsing cached scipy-1.15.2-cp311-cp311-manylinux_2_17_x86_64.manylinux2014_x86_64.whl (37.6 MB)\n",
            "Installing collected packages: numpy, scipy, pyscf, openfermionpyscf\n",
            "  Attempting uninstall: numpy\n",
            "    Found existing installation: numpy 2.2.3\n",
            "    Uninstalling numpy-2.2.3:\n",
            "      Successfully uninstalled numpy-2.2.3\n",
            "  Attempting uninstall: scipy\n",
            "    Found existing installation: scipy 1.13.0\n",
            "    Uninstalling scipy-1.13.0:\n",
            "      Successfully uninstalled scipy-1.13.0\n",
            "\u001b[31mERROR: pip's dependency resolver does not currently take into account all the packages that are installed. This behaviour is the source of the following dependency conflicts.\n",
            "gensim 4.3.3 requires scipy<1.14.0,>=1.7.0, but you have scipy 1.15.2 which is incompatible.\u001b[0m\u001b[31m\n",
            "\u001b[0mSuccessfully installed numpy-1.26.4 openfermionpyscf-0.5 pyscf-2.8.0 scipy-1.15.2\n"
          ]
        }
      ]
    },
    {
      "cell_type": "code",
      "source": [
        "from openfermion.chem import MolecularData\n",
        "from openfermion.transforms import jordan_wigner\n",
        "from openfermion.linalg import get_sparse_operator\n",
        "from openfermionpyscf import run_pyscf\n",
        "\n",
        "# ✅ Use Hydrogen molecule (H2) for debugging (low RAM usage)\n",
        "geometry = [('H', (0, 0, 0)), ('H', (0, 0, 0.74))]  # Simple H2 molecule\n",
        "basis = 'sto-3g'  # ✅ Use a lightweight valid basis set\n",
        "multiplicity = 1  # ✅ Ensure correct spin state\n",
        "charge = 0  # Neutral molecule\n",
        "\n",
        "# ✅ Run PySCF with limited quantum chemistry calculations to avoid RAM overload\n",
        "molecule = MolecularData(geometry, basis, multiplicity, charge)\n",
        "molecule = run_pyscf(molecule, run_fci=False, run_ccsd=False)  # ✅ Reduces memory usage\n",
        "\n",
        "# Convert the Fermionic Hamiltonian to Qubit Hamiltonian\n",
        "fermionic_hamiltonian = molecule.get_molecular_hamiltonian()\n",
        "qubit_hamiltonian = jordan_wigner(fermionic_hamiltonian)\n",
        "sparse_hamiltonian = get_sparse_operator(qubit_hamiltonian)\n",
        "\n",
        "print(\"🔢 Quantum Hamiltonian Successfully Generated for H2 Molecule\")"
      ],
      "metadata": {
        "colab": {
          "base_uri": "https://localhost:8080/"
        },
        "id": "AHRS4-V8QHtu",
        "outputId": "861e6a7f-1206-48ec-fc8e-0bcb92489a36"
      },
      "execution_count": null,
      "outputs": [
        {
          "output_type": "stream",
          "name": "stdout",
          "text": [
            "🔢 Quantum Hamiltonian Successfully Generated for H2 Molecule\n"
          ]
        }
      ]
    },
    {
      "cell_type": "code",
      "source": [
        "import cirq\n",
        "import numpy as np\n",
        "\n",
        "# Define a simple ansatz (quantum circuit) for VQE\n",
        "def ansatz(circuit, qubits, params):\n",
        "    circuit.append(cirq.rx(params[0]).on(qubits[0]))  # ✅ Fixed RX syntax\n",
        "    circuit.append(cirq.rx(params[1]).on(qubits[1]))  # ✅ Fixed RX syntax\n",
        "    circuit.append(cirq.CNOT(qubits[0], qubits[1]))  # Introduce entanglement\n",
        "    return circuit\n",
        "\n",
        "qubits = cirq.LineQubit.range(2)  # Define 2 qubits for simulation\n",
        "circuit = cirq.Circuit()\n",
        "ansatz(circuit, qubits, [np.pi / 4, np.pi / 6])\n",
        "\n",
        "print(\"🧪 Variational Quantum Circuit Created\")\n",
        "print(circuit)"
      ],
      "metadata": {
        "colab": {
          "base_uri": "https://localhost:8080/"
        },
        "id": "I8jkLiWCTn0s",
        "outputId": "5867515c-9b8a-44f4-f711-d47fe2cfa24e"
      },
      "execution_count": null,
      "outputs": [
        {
          "output_type": "stream",
          "name": "stdout",
          "text": [
            "🧪 Variational Quantum Circuit Created\n",
            "0: ───Rx(0.25π)────@───\n",
            "                   │\n",
            "1: ───Rx(0.167π)───X───\n"
          ]
        }
      ]
    },
    {
      "cell_type": "code",
      "source": [
        "import scipy.optimize\n",
        "\n",
        "# Define cost function for VQE\n",
        "def cost_function(params):\n",
        "    circuit = cirq.Circuit()\n",
        "    ansatz(circuit, qubits, params)\n",
        "\n",
        "    # Simulate the quantum circuit\n",
        "    simulator = cirq.Simulator()\n",
        "    result = simulator.simulate(circuit)\n",
        "    state_vector = result.final_state_vector\n",
        "\n",
        "    # Compute expectation value (energy)\n",
        "    energy = np.real(state_vector.conj().T @ sparse_hamiltonian @ state_vector)\n",
        "    return energy\n",
        "\n",
        "print(\"✅ VQE Cost Function Ready\")"
      ],
      "metadata": {
        "colab": {
          "base_uri": "https://localhost:8080/"
        },
        "id": "xxl9hkReU0I6",
        "outputId": "3476fa70-2a4d-4261-81e9-fb8e1baa6430"
      },
      "execution_count": null,
      "outputs": [
        {
          "output_type": "stream",
          "name": "stdout",
          "text": [
            "✅ VQE Cost Function Ready\n"
          ]
        }
      ]
    },
    {
      "cell_type": "code",
      "source": [
        "import scipy.sparse\n",
        "\n",
        "# Ensure Hamiltonian is a dense NumPy array\n",
        "dense_hamiltonian = sparse_hamiltonian.toarray() if scipy.sparse.issparse(sparse_hamiltonian) else sparse_hamiltonian\n",
        "\n",
        "def cost_function(params):\n",
        "    \"\"\"Compute expectation value of energy for given ansatz parameters.\"\"\"\n",
        "    circuit = cirq.Circuit()\n",
        "    ansatz(circuit, qubits, params)\n",
        "\n",
        "    # Simulate the quantum circuit\n",
        "    simulator = cirq.Simulator()\n",
        "    result = simulator.simulate(circuit)\n",
        "\n",
        "    # Ensure state_vector matches the expected qubit dimension\n",
        "    state_vector = np.array(result.final_state_vector).reshape(-1, 1)\n",
        "\n",
        "    # Compute expectation value (energy) using correct matrix multiplication\n",
        "    energy = np.real(np.dot(state_vector.T.conj(), np.dot(dense_hamiltonian, state_vector)))[0, 0]\n",
        "\n",
        "    return energy\n",
        "\n",
        "print(\"✅ Fixed Cost Function Ready\")"
      ],
      "metadata": {
        "colab": {
          "base_uri": "https://localhost:8080/"
        },
        "id": "kBkJyX91U3zz",
        "outputId": "d0a71f2a-f1d8-4534-ae68-416c72ca12a7"
      },
      "execution_count": null,
      "outputs": [
        {
          "output_type": "stream",
          "name": "stdout",
          "text": [
            "✅ Fixed Cost Function Ready\n"
          ]
        }
      ]
    },
    {
      "cell_type": "code",
      "source": [
        "import scipy.sparse\n",
        "\n",
        "# Ensure Hamiltonian is a dense NumPy array\n",
        "dense_hamiltonian = sparse_hamiltonian.toarray() if scipy.sparse.issparse(sparse_hamiltonian) else sparse_hamiltonian\n",
        "\n",
        "def cost_function(params):\n",
        "    \"\"\"Compute expectation value of energy for given ansatz parameters.\"\"\"\n",
        "    circuit = cirq.Circuit()\n",
        "    ansatz(circuit, qubits, params)\n",
        "\n",
        "    # Simulate the quantum circuit\n",
        "    simulator = cirq.Simulator()\n",
        "    result = simulator.simulate(circuit)\n",
        "\n",
        "    # Ensure state_vector has the correct number of dimensions\n",
        "    state_vector = np.array(result.final_state_vector)\n",
        "\n",
        "    # ✅ Fix: Ensure matrix dimensions match by reshaping the state vector\n",
        "    expected_dim = dense_hamiltonian.shape[0]\n",
        "    if state_vector.shape[0] != expected_dim:\n",
        "        print(f\"⚠️ Mismatched dimensions: Hamiltonian={dense_hamiltonian.shape}, State Vector={state_vector.shape}\")\n",
        "        state_vector = np.pad(state_vector, (0, expected_dim - state_vector.shape[0]), mode='constant')\n",
        "\n",
        "    # Compute expectation value (energy)\n",
        "    energy = np.real(state_vector.conj().T @ dense_hamiltonian @ state_vector)\n",
        "\n",
        "    return energy\n",
        "\n",
        "print(\"✅ Fixed Cost Function Ready\")"
      ],
      "metadata": {
        "colab": {
          "base_uri": "https://localhost:8080/"
        },
        "id": "1aTKg25NVhIV",
        "outputId": "67a6f7fd-5044-43ca-d468-4c258e59fb48"
      },
      "execution_count": null,
      "outputs": [
        {
          "output_type": "stream",
          "name": "stdout",
          "text": [
            "✅ Fixed Cost Function Ready\n"
          ]
        }
      ]
    },
    {
      "cell_type": "code",
      "source": [
        "# Optimize parameters using classical optimization (COBYLA)\n",
        "initial_params = np.random.rand(2)  # Random initialization\n",
        "optimization_result = scipy.optimize.minimize(cost_function, initial_params, method='COBYLA')\n",
        "\n",
        "# Display optimized energy\n",
        "print(\"🔬 Optimized Variational Parameters:\", optimization_result.x)\n",
        "print(\"🧪 Estimated Drug-Protein Interaction Energy:\", cost_function(optimization_result.x))\n",
        "print(\"🔍 Classical Computation Reference:\", molecule.hf_energy)"
      ],
      "metadata": {
        "colab": {
          "base_uri": "https://localhost:8080/"
        },
        "id": "ng3BVSD4V_vS",
        "outputId": "5d556ef4-795e-4c2d-f6d6-344eaabfb9f1"
      },
      "execution_count": null,
      "outputs": [
        {
          "output_type": "stream",
          "name": "stdout",
          "text": [
            "⚠️ Mismatched dimensions: Hamiltonian=(16, 16), State Vector=(4,)\n",
            "⚠️ Mismatched dimensions: Hamiltonian=(16, 16), State Vector=(4,)\n",
            "⚠️ Mismatched dimensions: Hamiltonian=(16, 16), State Vector=(4,)\n",
            "⚠️ Mismatched dimensions: Hamiltonian=(16, 16), State Vector=(4,)\n",
            "⚠️ Mismatched dimensions: Hamiltonian=(16, 16), State Vector=(4,)\n",
            "⚠️ Mismatched dimensions: Hamiltonian=(16, 16), State Vector=(4,)\n",
            "⚠️ Mismatched dimensions: Hamiltonian=(16, 16), State Vector=(4,)\n",
            "⚠️ Mismatched dimensions: Hamiltonian=(16, 16), State Vector=(4,)\n",
            "⚠️ Mismatched dimensions: Hamiltonian=(16, 16), State Vector=(4,)\n",
            "⚠️ Mismatched dimensions: Hamiltonian=(16, 16), State Vector=(4,)\n",
            "⚠️ Mismatched dimensions: Hamiltonian=(16, 16), State Vector=(4,)\n",
            "⚠️ Mismatched dimensions: Hamiltonian=(16, 16), State Vector=(4,)\n",
            "⚠️ Mismatched dimensions: Hamiltonian=(16, 16), State Vector=(4,)\n",
            "⚠️ Mismatched dimensions: Hamiltonian=(16, 16), State Vector=(4,)\n",
            "⚠️ Mismatched dimensions: Hamiltonian=(16, 16), State Vector=(4,)\n",
            "⚠️ Mismatched dimensions: Hamiltonian=(16, 16), State Vector=(4,)\n",
            "⚠️ Mismatched dimensions: Hamiltonian=(16, 16), State Vector=(4,)\n",
            "⚠️ Mismatched dimensions: Hamiltonian=(16, 16), State Vector=(4,)\n",
            "⚠️ Mismatched dimensions: Hamiltonian=(16, 16), State Vector=(4,)\n",
            "⚠️ Mismatched dimensions: Hamiltonian=(16, 16), State Vector=(4,)\n",
            "⚠️ Mismatched dimensions: Hamiltonian=(16, 16), State Vector=(4,)\n",
            "⚠️ Mismatched dimensions: Hamiltonian=(16, 16), State Vector=(4,)\n",
            "⚠️ Mismatched dimensions: Hamiltonian=(16, 16), State Vector=(4,)\n",
            "⚠️ Mismatched dimensions: Hamiltonian=(16, 16), State Vector=(4,)\n",
            "⚠️ Mismatched dimensions: Hamiltonian=(16, 16), State Vector=(4,)\n",
            "⚠️ Mismatched dimensions: Hamiltonian=(16, 16), State Vector=(4,)\n",
            "⚠️ Mismatched dimensions: Hamiltonian=(16, 16), State Vector=(4,)\n",
            "⚠️ Mismatched dimensions: Hamiltonian=(16, 16), State Vector=(4,)\n",
            "⚠️ Mismatched dimensions: Hamiltonian=(16, 16), State Vector=(4,)\n",
            "⚠️ Mismatched dimensions: Hamiltonian=(16, 16), State Vector=(4,)\n",
            "⚠️ Mismatched dimensions: Hamiltonian=(16, 16), State Vector=(4,)\n",
            "⚠️ Mismatched dimensions: Hamiltonian=(16, 16), State Vector=(4,)\n",
            "🔬 Optimized Variational Parameters: [1.00978446 3.14140999]\n",
            "⚠️ Mismatched dimensions: Hamiltonian=(16, 16), State Vector=(4,)\n",
            "🧪 Estimated Drug-Protein Interaction Energy: 0.24003549902978458\n",
            "🔍 Classical Computation Reference: -1.1167593073964255\n"
          ]
        }
      ]
    },
    {
      "cell_type": "code",
      "source": [
        "print(f\"🔎 Number of Qubits in Ansatz Circuit: {len(qubits)}\")\n",
        "print(f\"🔎 Expected Number of Qubits from Hamiltonian: {int(np.log2(dense_hamiltonian.shape[0]))}\")"
      ],
      "metadata": {
        "colab": {
          "base_uri": "https://localhost:8080/"
        },
        "id": "F9vMZUmrWXpA",
        "outputId": "d2505cf0-c716-4951-a577-46eaf20fa83f"
      },
      "execution_count": null,
      "outputs": [
        {
          "output_type": "stream",
          "name": "stdout",
          "text": [
            "🔎 Number of Qubits in Ansatz Circuit: 2\n",
            "🔎 Expected Number of Qubits from Hamiltonian: 4\n"
          ]
        }
      ]
    },
    {
      "cell_type": "code",
      "source": [
        "import cirq\n",
        "import numpy as np\n",
        "\n",
        "# ✅ Ensure we use 4 qubits (to match Hamiltonian size)\n",
        "num_qubits = 4\n",
        "qubits = cirq.LineQubit.range(num_qubits)\n",
        "\n",
        "# Define ansatz circuit\n",
        "def ansatz(circuit, qubits, params):\n",
        "    for i in range(num_qubits):\n",
        "        circuit.append(cirq.rx(params[i]).on(qubits[i]))  # Apply RX gate to each qubit\n",
        "\n",
        "    # Introduce entanglement between adjacent qubits\n",
        "    for i in range(num_qubits - 1):\n",
        "        circuit.append(cirq.CNOT(qubits[i], qubits[i + 1]))\n",
        "\n",
        "    return circuit\n",
        "\n",
        "print(f\"✅ Updated Ansatz Circuit with {num_qubits} Qubits\")\n",
        "\n",
        "# ✅ Update the cost function\n",
        "def cost_function(params):\n",
        "    \"\"\"Compute expectation value of energy for given ansatz parameters.\"\"\"\n",
        "    circuit = cirq.Circuit()\n",
        "    ansatz(circuit, qubits, params)\n",
        "\n",
        "    # Simulate the quantum circuit\n",
        "    simulator = cirq.Simulator()\n",
        "    result = simulator.simulate(circuit)\n",
        "\n",
        "    # Ensure state_vector has the correct number of dimensions\n",
        "    state_vector = np.array(result.final_state_vector)\n",
        "\n",
        "    # ✅ Fix: Ensure matrix dimensions match by reshaping the state vector\n",
        "    expected_dim = dense_hamiltonian.shape[0]\n",
        "    if state_vector.shape[0] != expected_dim:\n",
        "        print(f\"⚠️ Mismatched dimensions: Hamiltonian={dense_hamiltonian.shape}, State Vector={state_vector.shape}\")\n",
        "        state_vector = np.pad(state_vector, (0, expected_dim - state_vector.shape[0]), mode='constant')\n",
        "\n",
        "    # Compute expectation value (energy)\n",
        "    energy = np.real(state_vector.conj().T @ dense_hamiltonian @ state_vector)\n",
        "\n",
        "    return energy\n",
        "\n",
        "print(\"✅ Fixed Cost Function Ready\")"
      ],
      "metadata": {
        "colab": {
          "base_uri": "https://localhost:8080/"
        },
        "id": "7X5R543VWikt",
        "outputId": "b8ad6da8-fe4f-42fe-8ab5-ecdeb299a829"
      },
      "execution_count": null,
      "outputs": [
        {
          "output_type": "stream",
          "name": "stdout",
          "text": [
            "✅ Updated Ansatz Circuit with 4 Qubits\n",
            "✅ Fixed Cost Function Ready\n"
          ]
        }
      ]
    },
    {
      "cell_type": "code",
      "source": [
        "# Optimize parameters using classical optimization (COBYLA)\n",
        "initial_params = np.random.rand(num_qubits)  # ✅ Match the number of qubits\n",
        "optimization_result = scipy.optimize.minimize(cost_function, initial_params, method='COBYLA')\n",
        "\n",
        "# Display optimized energy\n",
        "print(\"🔬 Optimized Variational Parameters:\", optimization_result.x)\n",
        "print(\"🧪 Estimated Drug-Protein Interaction Energy:\", cost_function(optimization_result.x))\n",
        "print(\"🔍 Classical Computation Reference:\", molecule.hf_energy)"
      ],
      "metadata": {
        "colab": {
          "base_uri": "https://localhost:8080/"
        },
        "id": "HFxg5dGKWm6b",
        "outputId": "6bd53c15-c0b0-44b7-9c9f-3cb6f9f6cdb5"
      },
      "execution_count": null,
      "outputs": [
        {
          "output_type": "stream",
          "name": "stdout",
          "text": [
            "🔬 Optimized Variational Parameters: [0.36543081 3.14200817 3.14145995 3.12749363]\n",
            "🧪 Estimated Drug-Protein Interaction Energy: -0.5307722307074996\n",
            "🔍 Classical Computation Reference: -1.1167593073964255\n"
          ]
        }
      ]
    },
    {
      "cell_type": "code",
      "source": [
        "# Track energies manually\n",
        "energy_history = []\n",
        "\n",
        "def cost_function_with_tracking(params):\n",
        "    energy = cost_function(params)\n",
        "    energy_history.append(energy)  # Store energy at each step\n",
        "    return energy\n",
        "\n",
        "# Optimize parameters using COBYLA\n",
        "optimization_result = scipy.optimize.minimize(\n",
        "    cost_function_with_tracking, initial_params, method='COBYLA'\n",
        ")\n",
        "\n",
        "# Now, plot the manually tracked energy values\n",
        "import matplotlib.pyplot as plt\n",
        "\n",
        "plt.plot(range(len(energy_history)), energy_history, marker='o', linestyle='--')\n",
        "plt.xlabel('Optimization Steps')\n",
        "plt.ylabel('Energy (Hartree)')\n",
        "plt.title('VQE Convergence for COVID-19 Drug Simulation')\n",
        "plt.grid()\n",
        "plt.show()"
      ],
      "metadata": {
        "colab": {
          "base_uri": "https://localhost:8080/",
          "height": 472
        },
        "id": "iuVXsB1gXP8s",
        "outputId": "58af6ffc-dfa5-4b60-849c-3b1c5f01abb7"
      },
      "execution_count": null,
      "outputs": [
        {
          "output_type": "display_data",
          "data": {
            "text/plain": [
              "<Figure size 640x480 with 1 Axes>"
            ],
            "image/png": "[encoded data removed]"
          },
          "metadata": {}
        }
      ]
    }
  ]
}